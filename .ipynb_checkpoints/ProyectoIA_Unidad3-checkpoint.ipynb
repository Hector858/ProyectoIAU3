{
 "cells": [
  {
   "cell_type": "markdown",
   "id": "67525b48",
   "metadata": {},
   "source": [
    "<center><h1>Inteligencia Artificial</header1></center>"
   ]
  },
  {
   "cell_type": "code",
   "execution_count": 1,
   "id": "10f22d9e",
   "metadata": {},
   "outputs": [],
   "source": [
    "'''Se importa cada una de las libreías que se va a usar'''\n",
    "#importamos la libreía CV2\n",
    "import cv2\n",
    "#importamos la librería de numpy\n",
    "import numpy as np\n",
    "#importamos la librería de os\n",
    "import os\n",
    "os.environ['TF_CPP_MIN_LOG_LEVEL'] = '3' \n",
    "#importamos la librería de shutil\n",
    "import shutil\n",
    "#importamos la librería de glob\n",
    "import glob\n",
    "#importamos la librería de pandas\n",
    "import pandas as pd\n",
    "#importamos la librería de matplotlib.pyplot\n",
    "import matplotlib.pyplot as plt\n",
    "#importamos la librería de seaborn\n",
    "import seaborn as sn\n",
    "#importamos la librería de ImageDataGenerator\n",
    "from keras.preprocessing.image import ImageDataGenerator\n",
    "#importamos la librerías de load_img, img_to_array, array_to_img\n",
    "from tensorflow.keras.utils import load_img, img_to_array, array_to_img\n",
    "#importamos la librería de Image\n",
    "from  PIL  import Image\n",
    "#importamos la librería de remove\n",
    "from rembg import remove\n",
    "#importamos la librería de MinMaxScaler\n",
    "from sklearn.preprocessing import MinMaxScaler\n",
    "#importamos la librería de import h5py\n",
    "import h5py\n",
    "#importamos la librería de import sleep\n",
    "from time import sleep"
   ]
  },
  {
   "cell_type": "code",
   "execution_count": 2,
   "id": "6c2f12a3",
   "metadata": {},
   "outputs": [
    {
     "name": "stdout",
     "output_type": "stream",
     "text": [
      "['Ariel Chabla', 'ArroboMercy', 'BarraganSteven', 'CevallosJoan', 'EnriquezSelena', 'GenesisHeredia', 'GoyesAnthony', 'HectorCedeno', 'Jhon Zambrano', 'Jordan Espinosa', 'Jorge Borrero', 'JoseRuiz', 'LucioCarlos', 'MasacheFernando', 'MelanyLopez', 'MosqueraLucy', 'Nataly Acosta', 'OlallaLuis', 'PauteKevin', 'PárragaMaríaJosé', 'Raymond Dávila', 'RivasSelena', 'SalazarJohana', 'Solano Wilmer', 'SolórzanoBryan', 'VinicioBorja']\n"
     ]
    }
   ],
   "source": [
    "images_path = \"C:\\ProyectoIA_UNIDAD3\\ProeyectoIAU3\"\n",
    "class_names = os.listdir(images_path)\n",
    "class_names.sort()\n",
    "print(class_names)"
   ]
  },
  {
   "cell_type": "code",
   "execution_count": null,
   "id": "07602254",
   "metadata": {},
   "outputs": [],
   "source": []
  }
 ],
 "metadata": {
  "kernelspec": {
   "display_name": "Python 3 (ipykernel)",
   "language": "python",
   "name": "python3"
  },
  "language_info": {
   "codemirror_mode": {
    "name": "ipython",
    "version": 3
   },
   "file_extension": ".py",
   "mimetype": "text/x-python",
   "name": "python",
   "nbconvert_exporter": "python",
   "pygments_lexer": "ipython3",
   "version": "3.9.7"
  }
 },
 "nbformat": 4,
 "nbformat_minor": 5
}
